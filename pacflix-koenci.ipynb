{
 "cells": [
  {
   "cell_type": "code",
   "execution_count": 1,
   "metadata": {},
   "outputs": [],
   "source": [
    "from pacflix import pacflix"
   ]
  },
  {
   "cell_type": "code",
   "execution_count": 2,
   "metadata": {},
   "outputs": [
    {
     "name": "stdout",
     "output_type": "stream",
     "text": [
      "Your account successfully created, shere this code 'Bagus' to your friend to get some benefits.\n",
      "Your account successfully created, shere this code 'Ana' to your friend to get some benefits.\n"
     ]
    }
   ],
   "source": [
    "bagus = pacflix(\"Bagus\")\n",
    "ana = pacflix(\"Ana\")"
   ]
  },
  {
   "cell_type": "code",
   "execution_count": 3,
   "metadata": {},
   "outputs": [
    {
     "name": "stdout",
     "output_type": "stream",
     "text": [
      "You do not have any subs yet.\n"
     ]
    }
   ],
   "source": [
    "bagus.check_plan()"
   ]
  },
  {
   "cell_type": "code",
   "execution_count": 4,
   "metadata": {},
   "outputs": [
    {
     "name": "stdout",
     "output_type": "stream",
     "text": [
      "You do not have any subs yet.\n"
     ]
    }
   ],
   "source": [
    "ana.check_plan()"
   ]
  },
  {
   "cell_type": "code",
   "execution_count": 5,
   "metadata": {},
   "outputs": [
    {
     "name": "stdout",
     "output_type": "stream",
     "text": [
      "You're selected Standard Plan, price 160000.\n"
     ]
    }
   ],
   "source": [
    "bagus.purchase(\"Standard Plan\", None, 20)"
   ]
  },
  {
   "cell_type": "code",
   "execution_count": 6,
   "metadata": {},
   "outputs": [
    {
     "name": "stdout",
     "output_type": "stream",
     "text": [
      "Your current plan is Standard Plan.\n",
      "Start subs at 2024-02-06 20:47:50.846700.\n",
      "End subs at 2025-10-06 20:47:50.846700.\n"
     ]
    }
   ],
   "source": [
    "bagus.check_plan()"
   ]
  },
  {
   "cell_type": "code",
   "execution_count": 7,
   "metadata": {},
   "outputs": [
    {
     "name": "stdout",
     "output_type": "stream",
     "text": [
      "You're selected Standard Plan with referral code from Bagus, price 153600.0.\n"
     ]
    }
   ],
   "source": [
    "ana.purchase(\"Standard Plan\", \"Bagus\", 20)"
   ]
  },
  {
   "cell_type": "code",
   "execution_count": 8,
   "metadata": {},
   "outputs": [
    {
     "name": "stdout",
     "output_type": "stream",
     "text": [
      "Your current plan is Standard Plan.\n",
      "Start subs at 2024-02-06 20:48:07.509165.\n",
      "End subs at 2025-10-06 20:48:07.509165.\n"
     ]
    }
   ],
   "source": [
    "ana.check_plan()"
   ]
  },
  {
   "cell_type": "code",
   "execution_count": 9,
   "metadata": {},
   "outputs": [
    {
     "name": "stdout",
     "output_type": "stream",
     "text": [
      "Your account successfully created, shere this code 'Jati' to your friend to get some benefits.\n"
     ]
    }
   ],
   "source": [
    "jati = pacflix(\"Jati\")"
   ]
  },
  {
   "cell_type": "code",
   "execution_count": 10,
   "metadata": {},
   "outputs": [
    {
     "name": "stdout",
     "output_type": "stream",
     "text": [
      "You do not have any subs yet.\n"
     ]
    }
   ],
   "source": [
    "jati.check_plan()"
   ]
  },
  {
   "cell_type": "code",
   "execution_count": 11,
   "metadata": {},
   "outputs": [
    {
     "name": "stdout",
     "output_type": "stream",
     "text": [
      "Your referral code is invalid!.\n"
     ]
    }
   ],
   "source": [
    "jati.purchase(\"Premium Plan\", \"Cahya\", 2)"
   ]
  },
  {
   "cell_type": "code",
   "execution_count": 13,
   "metadata": {},
   "outputs": [
    {
     "name": "stdout",
     "output_type": "stream",
     "text": [
      "Upgrade to Premium Plan, price + discount = 190000.0.\n"
     ]
    }
   ],
   "source": [
    "ana.upgrade_plan(\"Premium Plan\")"
   ]
  },
  {
   "cell_type": "code",
   "execution_count": 14,
   "metadata": {},
   "outputs": [
    {
     "name": "stdout",
     "output_type": "stream",
     "text": [
      "Your current plan is Premium Plan.\n",
      "Start subs at 2024-02-06 20:48:07.509165.\n",
      "End subs at 2025-10-06 20:48:07.509165.\n"
     ]
    }
   ],
   "source": [
    "ana.check_plan()"
   ]
  },
  {
   "cell_type": "code",
   "execution_count": null,
   "metadata": {},
   "outputs": [],
   "source": []
  }
 ],
 "metadata": {
  "kernelspec": {
   "display_name": "venv",
   "language": "python",
   "name": "python3"
  },
  "language_info": {
   "codemirror_mode": {
    "name": "ipython",
    "version": 3
   },
   "file_extension": ".py",
   "mimetype": "text/x-python",
   "name": "python",
   "nbconvert_exporter": "python",
   "pygments_lexer": "ipython3",
   "version": "3.10.12"
  }
 },
 "nbformat": 4,
 "nbformat_minor": 2
}

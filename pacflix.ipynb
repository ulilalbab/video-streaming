{
 "cells": [
  {
   "cell_type": "code",
   "execution_count": 1,
   "metadata": {},
   "outputs": [
    {
     "ename": "IndentationError",
     "evalue": "expected an indented block after 'else' statement on line 118 (pacflix.py, line 119)",
     "output_type": "error",
     "traceback": [
      "Traceback \u001b[1;36m(most recent call last)\u001b[0m:\n",
      "\u001b[0m  File \u001b[0;32me:\\GitHub\\video-streaming\\venv\\Lib\\site-packages\\IPython\\core\\interactiveshell.py:3553\u001b[0m in \u001b[0;35mrun_code\u001b[0m\n    exec(code_obj, self.user_global_ns, self.user_ns)\u001b[0m\n",
      "\u001b[1;36m  Cell \u001b[1;32mIn[1], line 1\u001b[1;36m\n\u001b[1;33m    from pacflix import pacflix\u001b[1;36m\n",
      "\u001b[1;36m  File \u001b[1;32me:\\GitHub\\video-streaming\\pacflix.py:119\u001b[1;36m\u001b[0m\n\u001b[1;33m    print(\"Your selected new plan is invalid!.\")\u001b[0m\n\u001b[1;37m    ^\u001b[0m\n\u001b[1;31mIndentationError\u001b[0m\u001b[1;31m:\u001b[0m expected an indented block after 'else' statement on line 118\n"
     ]
    }
   ],
   "source": [
    "from pacflix import pacflix"
   ]
  },
  {
   "cell_type": "code",
   "execution_count": 3,
   "metadata": {},
   "outputs": [
    {
     "ename": "NameError",
     "evalue": "name 'pacflix' is not defined",
     "output_type": "error",
     "traceback": [
      "\u001b[1;31m---------------------------------------------------------------------------\u001b[0m",
      "\u001b[1;31mNameError\u001b[0m                                 Traceback (most recent call last)",
      "Cell \u001b[1;32mIn[3], line 1\u001b[0m\n\u001b[1;32m----> 1\u001b[0m bagus \u001b[38;5;241m=\u001b[39m \u001b[43mpacflix\u001b[49m(\u001b[38;5;124m\"\u001b[39m\u001b[38;5;124mBagus\u001b[39m\u001b[38;5;124m\"\u001b[39m)\n\u001b[0;32m      2\u001b[0m ana \u001b[38;5;241m=\u001b[39m pacflix(\u001b[38;5;124m\"\u001b[39m\u001b[38;5;124mAna\u001b[39m\u001b[38;5;124m\"\u001b[39m)\n",
      "\u001b[1;31mNameError\u001b[0m: name 'pacflix' is not defined"
     ]
    }
   ],
   "source": [
    "bagus = pacflix(\"Bagus\")\n",
    "ana = pacflix(\"Ana\")"
   ]
  },
  {
   "cell_type": "code",
   "execution_count": 6,
   "metadata": {},
   "outputs": [
    {
     "name": "stdout",
     "output_type": "stream",
     "text": [
      "You don't have any subscription\n"
     ]
    }
   ],
   "source": [
    "bagus.check_plan()"
   ]
  },
  {
   "cell_type": "code",
   "execution_count": 7,
   "metadata": {},
   "outputs": [
    {
     "name": "stdout",
     "output_type": "stream",
     "text": [
      "List of Pacflix plan\n",
      "1. Basic Plan\n",
      "SD, 1 device, Movie, Rp 120.000,-\n",
      "\n",
      "2. Standard Plan\n",
      "HD, 2 device, Movie + Sport, Rp 160.000,-\n",
      "\n",
      "1. Premium Plan\n",
      "UHD, 3 device, Movie + Sport + Original, Rp 200.000,-\n"
     ]
    }
   ],
   "source": [
    "ana.list_plan()"
   ]
  },
  {
   "cell_type": "code",
   "execution_count": 8,
   "metadata": {},
   "outputs": [
    {
     "name": "stdout",
     "output_type": "stream",
     "text": [
      "You're selected Standard Plan,  Price 160000\n"
     ]
    }
   ],
   "source": [
    "bagus.purchase(\"Standard Plan\", None, 20)"
   ]
  },
  {
   "cell_type": "code",
   "execution_count": 9,
   "metadata": {},
   "outputs": [
    {
     "name": "stdout",
     "output_type": "stream",
     "text": [
      "You're selected Standard Plan with referral code from Bagus,  Price 153600.0\n"
     ]
    }
   ],
   "source": [
    "ana.purchase(\"Standard Plan\", \"Bagus\", 20)"
   ]
  },
  {
   "cell_type": "code",
   "execution_count": 11,
   "metadata": {},
   "outputs": [
    {
     "name": "stdout",
     "output_type": "stream",
     "text": [
      "Your current plan is Standard Plan.\n"
     ]
    }
   ],
   "source": [
    "ana.check_plan()"
   ]
  },
  {
   "cell_type": "code",
   "execution_count": 12,
   "metadata": {},
   "outputs": [
    {
     "name": "stdout",
     "output_type": "stream",
     "text": [
      "Your successfully created, share this code 'Jati' to your friend to get benefits.\n"
     ]
    }
   ],
   "source": [
    "jati = pacflix(\"Jati\")"
   ]
  },
  {
   "cell_type": "code",
   "execution_count": 14,
   "metadata": {},
   "outputs": [
    {
     "name": "stdout",
     "output_type": "stream",
     "text": [
      "You don't have any subscription\n"
     ]
    }
   ],
   "source": [
    "jati.check_plan()"
   ]
  },
  {
   "cell_type": "code",
   "execution_count": 15,
   "metadata": {},
   "outputs": [
    {
     "name": "stdout",
     "output_type": "stream",
     "text": [
      "Your referral code is invalid\n"
     ]
    }
   ],
   "source": [
    "jati.purchase(\"Premium Plan\", \"Cahya\", 2)"
   ]
  },
  {
   "cell_type": "code",
   "execution_count": 16,
   "metadata": {},
   "outputs": [
    {
     "data": {
      "text/plain": [
       "['Bagus', 'Ana', 'Jati']"
      ]
     },
     "execution_count": 16,
     "metadata": {},
     "output_type": "execute_result"
    }
   ],
   "source": [
    "pacflix.list_of_referral_code"
   ]
  },
  {
   "cell_type": "code",
   "execution_count": null,
   "metadata": {},
   "outputs": [],
   "source": []
  }
 ],
 "metadata": {
  "kernelspec": {
   "display_name": "venv",
   "language": "python",
   "name": "python3"
  },
  "language_info": {
   "codemirror_mode": {
    "name": "ipython",
    "version": 3
   },
   "file_extension": ".py",
   "mimetype": "text/x-python",
   "name": "python",
   "nbconvert_exporter": "python",
   "pygments_lexer": "ipython3",
   "version": "3.11.4"
  }
 },
 "nbformat": 4,
 "nbformat_minor": 2
}

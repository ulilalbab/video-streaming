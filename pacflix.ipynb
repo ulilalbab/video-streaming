{
 "cells": [
  {
   "cell_type": "code",
   "execution_count": 1,
   "metadata": {},
   "outputs": [],
   "source": [
    "from pacflix import pacflix"
   ]
  },
  {
   "cell_type": "code",
   "execution_count": 3,
   "metadata": {},
   "outputs": [
    {
     "name": "stdout",
     "output_type": "stream",
     "text": [
      "Your successfully created, share this code 'Bagus' to your friend to get benefits.\n",
      "Your successfully created, share this code 'Ana' to your friend to get benefits.\n"
     ]
    }
   ],
   "source": [
    "bagus = pacflix(\"Bagus\")\n",
    "ana = pacflix(\"Ana\")"
   ]
  },
  {
   "cell_type": "code",
   "execution_count": 2,
   "metadata": {},
   "outputs": [
    {
     "ename": "NameError",
     "evalue": "name 'Bagus' is not defined",
     "output_type": "error",
     "traceback": [
      "\u001b[1;31m---------------------------------------------------------------------------\u001b[0m",
      "\u001b[1;31mNameError\u001b[0m                                 Traceback (most recent call last)",
      "Cell \u001b[1;32mIn[2], line 1\u001b[0m\n\u001b[1;32m----> 1\u001b[0m \u001b[43mBagus\u001b[49m\u001b[38;5;241m.\u001b[39mcheck_plan()\n",
      "\u001b[1;31mNameError\u001b[0m: name 'Bagus' is not defined"
     ]
    }
   ],
   "source": [
    "Bagus.check_plan()"
   ]
  },
  {
   "cell_type": "code",
   "execution_count": 4,
   "metadata": {},
   "outputs": [
    {
     "name": "stdout",
     "output_type": "stream",
     "text": [
      "List of Pacflix plan\n",
      "1. Basic Plan\n",
      "SD, 1 device, Movie, Rp 120.000,-\n",
      "\n",
      "2. Basic Plan\n",
      "HD, 2 device, Movie + Sport, Rp 160.000,-\n",
      "\n",
      "1. Basic Plan\n",
      "UHD, 3 device, Movie, Rp 200.000,-\n"
     ]
    }
   ],
   "source": [
    "ana.list_plan()"
   ]
  }
 ],
 "metadata": {
  "kernelspec": {
   "display_name": "venv",
   "language": "python",
   "name": "python3"
  },
  "language_info": {
   "codemirror_mode": {
    "name": "ipython",
    "version": 3
   },
   "file_extension": ".py",
   "mimetype": "text/x-python",
   "name": "python",
   "nbconvert_exporter": "python",
   "pygments_lexer": "ipython3",
   "version": "3.11.4"
  }
 },
 "nbformat": 4,
 "nbformat_minor": 2
}
